{
 "cells": [
  {
   "cell_type": "code",
   "execution_count": 1,
   "metadata": {},
   "outputs": [],
   "source": [
    "import re\n",
    "import numpy as np\n",
    "import nltk as sl\n",
    "import os\n",
    "from matplotlib import pyplot as plt\n",
    "import gensim.models"
   ]
  },
  {
   "cell_type": "code",
   "execution_count": 4,
   "metadata": {},
   "outputs": [
    {
     "name": "stdout",
     "output_type": "stream",
     "text": [
      "/home/desir/Code/PSC-Stats\n"
     ]
    }
   ],
   "source": [
    "path = os.getcwd()\n",
    "print(path)\n",
    "corpus_path = '/data/corpus/corpus1'\n",
    "\n",
    "files = os.listdir(path+corpus_path)"
   ]
  },
  {
   "cell_type": "code",
   "execution_count": 5,
   "metadata": {},
   "outputs": [],
   "source": [
    "def get_txt_from_folder(files):\n",
    "    # Get all .txt files in list of files\n",
    "    document_list = []\n",
    "    for k in range(len(files)):\n",
    "        if files[k][-4:] == \".txt\":\n",
    "            document_list.append(files[k])\n",
    "    return document_list"
   ]
  },
  {
   "cell_type": "code",
   "execution_count": 6,
   "metadata": {},
   "outputs": [],
   "source": [
    "class MyCorpus(object):\n",
    "    \"\"\"An interator that yields sentences (lists of str).\"\"\"\n",
    "    def __iter__(self): \n",
    "        for doc_path in files:\n",
    "            print('Process doc : ' + doc_path)\n",
    "            with open(path+corpus_path+\"/\"+doc_path, \"r\") as f:\n",
    "                text = f.read()\n",
    "            text = re.sub('[^a-zA-Z]+', ' ', text)\n",
    "            # remove double space\n",
    "            text = re.sub(' +', ' ', text)\n",
    "\n",
    "            # lower case\n",
    "            text = text.lower()\n",
    "\n",
    "            # remove stop words\n",
    "            stop_words = sl.corpus.stopwords.words('english')\n",
    "            text = [w for w in text.split() if not w in stop_words]\n",
    "\n",
    "            \"\"\"\n",
    "            Je ne stem pas car j'utilise un dictionnaire pris sur internet\n",
    "            # stem words\n",
    "            stemmer = sl.stem.PorterStemmer()\n",
    "            result = []\n",
    "            for w in text:\n",
    "                if w=='cid' or stemmer.stem(w)=='cid':\n",
    "                    pass\n",
    "                result.append(stemmer.stem(w))\n",
    "            \"\"\"\n",
    "            yield text\n",
    "            \n",
    "files = get_txt_from_folder(files)\n",
    "\n",
    "corpus = MyCorpus()"
   ]
  },
  {
   "cell_type": "code",
   "execution_count": 7,
   "metadata": {},
   "outputs": [
    {
     "name": "stdout",
     "output_type": "stream",
     "text": [
      "Process doc : ireland_national-strategy-for-higher-education-2030-implementation-plan.txt\n"
     ]
    }
   ],
   "source": [
    "for document in corpus:\n",
    "    doc = document\n",
    "    break"
   ]
  },
  {
   "cell_type": "code",
   "execution_count": 8,
   "metadata": {},
   "outputs": [
    {
     "name": "stdout",
     "output_type": "stream",
     "text": [
      "4019\n"
     ]
    }
   ],
   "source": [
    "print(len(doc))"
   ]
  },
  {
   "cell_type": "code",
   "execution_count": 35,
   "metadata": {},
   "outputs": [],
   "source": [
    "def load_embedding_model():\n",
    "    \"\"\" Load GloVe Vectors\n",
    "        Return:\n",
    "            wv_from_bin: All 400000 embeddings, each lengh 200\n",
    "    \"\"\"\n",
    "    import gensim.downloader as api\n",
    "    wv_from_bin = api.load(\"glove-wiki-gigaword-200\")\n",
    "    print(\"Loaded vocab size %i\" % len(list(wv_from_bin.index_to_key)))\n",
    "    return wv_from_bin\n",
    "\n",
    "wv_from_bin = gensim.models.Word2Vec.load(path+'/src/gensim/models/w2v')\n",
    "wv_from_bin = wv_from_bin.wv"
   ]
  },
  {
   "cell_type": "code",
   "execution_count": 17,
   "metadata": {},
   "outputs": [],
   "source": [
    "def get_matrix_of_vectors(wv_from_bin, required_words):\n",
    "    \"\"\" Put the GloVe vectors into a matrix M.\n",
    "        Param:\n",
    "            wv_from_bin: KeyedVectors object; the 400000 GloVe vectors loaded from file\n",
    "        Return:\n",
    "            M: numpy matrix shape (num words, 200) containing the vectors\n",
    "            word2ind: dictionary mapping each word to its row number in M\n",
    "    \"\"\"\n",
    "    import random\n",
    "    words = list(wv_from_bin.index_to_key)\n",
    "    print(\"Shuffling words ...\")\n",
    "    random.seed(225)\n",
    "    random.shuffle(words)\n",
    "    words = words[:10000]\n",
    "    print(\"Putting %i words into word2ind and matrix M...\" % len(words))\n",
    "    word2ind = {}\n",
    "    M = []\n",
    "    curInd = 0\n",
    "    new_words = [] # on renvoie une nouvelle liste de mots qui ne contient pas d'abération\n",
    "    for w in words:\n",
    "        try:\n",
    "            M.append(wv_from_bin.get_vector(w))\n",
    "            print(wv_from_bin.get_vector(w))\n",
    "            word2ind[w] = curInd\n",
    "            curInd += 1\n",
    "        except KeyError:\n",
    "            continue\n",
    "    for w in required_words:\n",
    "        if w in words:\n",
    "            continue\n",
    "        try:\n",
    "            M.append(wv_from_bin.get_vector(w))\n",
    "            word2ind[w] = curInd\n",
    "            new_words.append(w)\n",
    "            curInd += 1\n",
    "        except KeyError:\n",
    "            continue\n",
    "    M = np.stack(M)\n",
    "    print(\"Done.\")\n",
    "    return M, word2ind, new_words"
   ]
  },
  {
   "cell_type": "code",
   "execution_count": 12,
   "metadata": {},
   "outputs": [],
   "source": [
    "def reduce_to_k_dim(M, k=2):\n",
    "    \"\"\" Reduce a co-occurence count matrix of dimensionality (num_corpus_words, num_corpus_words)\n",
    "        to a matrix of dimensionality (num_corpus_words, k) using the following SVD function from Scikit-Learn:\n",
    "            - http://scikit-learn.org/stable/modules/generated/sklearn.decomposition.TruncatedSVD.html\n",
    "    \n",
    "        ## Params:\n",
    "            M (numpy matrix of shape (number of unique words in the corpus , number of unique words in the corpus)): co-occurence matrix of word counts\n",
    "            k (int): embedding size of each word after dimension reduction\n",
    "        ## Return:\n",
    "            M_reduced (numpy matrix of shape (number of corpus words, k)): matrix of k-dimensioal word embeddings.\n",
    "                    In terms of the SVD from math class, this actually returns U * S\n",
    "    \"\"\" \n",
    "    n_iters = 10     # Use this parameter in your call to `TruncatedSVD`\n",
    "    M_reduced = None\n",
    "    print(\"Running Truncated SVD over %i words...\" % (M.shape[0]))\n",
    "    \n",
    "    ### SOLUTION BEGIN\n",
    "    SVD = TruncatedSVD(n_components = k, n_iter = n_iters)   \n",
    "    SVD.fit(M)\n",
    "    M_reduced = SVD.transform(M)\n",
    "    ### SOLUTION END\n",
    "\n",
    "    print(\"Done.\")\n",
    "    return M_reduced"
   ]
  },
  {
   "cell_type": "code",
   "execution_count": 36,
   "metadata": {},
   "outputs": [],
   "source": [
    "from sklearn.cluster import KMeans\n",
    "import pandas as pd\n",
    "\n",
    "def plot_embeddings_cluster(M_reduced, word2ind, words):\n",
    "    '''\n",
    "    Plot in a 2D-graph the words vectors, highlighting a number n of clusters. We are using the method k-means.\n",
    "\n",
    "    ## Params:\n",
    "        M_reduced (numpy matrix of shape (num_corpus_words, dim=2)): co-occurence matrix reduced by reduce_to_k_dim\n",
    "        word2ind: dictionary mapping each word to its row number in M_reduced \n",
    "        words: array of the words vectors we are plotting\n",
    "    '''\n",
    "    clf = KMeans(n_clusters= 6) # Modify here the number of clusters\n",
    "    X = []\n",
    "    Y= []\n",
    "    \n",
    "    for i in range(len(words)):\n",
    "        k = word2ind[words[i]]\n",
    "        X.append(M_reduced[k][0])\n",
    "        Y.append(M_reduced[k][1])\n",
    "    d= {'X' : X, 'Y' : Y}\n",
    "    df = pd.DataFrame(data = d)\n",
    "    clf.fit(df)\n",
    "    labels = clf.labels_\n",
    "    colors = ['g.', 'r.', 'b.', 'c.', 'y.', 'm.'] # Modify this array if you use more than 6 clusters (add more colors)\n",
    "    for i in range(len(df)):\n",
    "        plt.plot(df.iloc[i,0], df.iloc[i,1], colors[labels[i]], markersize = 10)\n",
    "        plt.text(df.iloc[i,0], df.iloc[i,1], words[i], fontsize = 9)\n",
    "    plt.show()\n"
   ]
  },
  {
   "cell_type": "code",
   "execution_count": 40,
   "metadata": {},
   "outputs": [
    {
     "name": "stdout",
     "output_type": "stream",
     "text": [
      "['national', 'strategy', 'higher', 'education', 'implementation', 'plan', 'june', 'table', 'contents', 'introduction', 'purpose', 'implementation', 'oversight', 'group', 'major', 'actors', 'implementation', 'process', 'proposed', 'cabinet', 'committee', 'higher', 'education', 'key', 'organizations', 'major', 'implementation', 'actions', 'minister', 'department', 'education', 'skills', 'higher', 'education', 'authority', 'qualifications', 'quality', 'authority', 'ireland', 'higher', 'education', 'institutions', 'minister', 'department', 'enterprise', 'jobs', 'innovation', 'research', 'funding', 'agencies', 'implementation', 'cost', 'implementation', 'monitoring', 'appendix', 'table', 'recommendations', 'implementation', 'plan', 'june', 'page', 'introduction', 'purpose', 'purpose', 'plan', 'set', 'detail', 'necessary', 'actions', 'implement', 'recommendations', 'described', 'national', 'strategy', 'higher', 'education', 'ireland', 'show', 'lead', 'responsibility', 'lie', 'amongst', 'various', 'actors', 'involved', 'higher', 'education', 'sector', 'indicate', 'possible', 'phasing', 'timelines', 'actions', 'full', 'table', 'recommendations', 'attached', 'plan', 'order', 'appear', 'report', 'ease', 'reference', 'implementation', 'oversight', 'group', 'ongoing', 'management', 'implementation', 'process', 'overseen', 'implementation', 'oversight', 'group', 'chaired', 'secretary', 'general', 'department', 'education', 'skills', 'representation', 'officials', 'department', 'department', 'enterprise', 'jobs', 'innovation', 'department', 'finance', 'higher', 'education', 'authority', 'irish', 'universities', 'association', 'institute', 'technology', 'ireland', 'relevant', 'members', 'participate', 'required', 'consult', 'wider', 'stakeholders', 'necessary', 'major', 'actors', 'implementation', 'process', 'proposed', 'cabinet', 'committee', 'role', 'intended', 'future', 'system', 'governance', 'higher', 'education', 'based', 'national', 'priorities', 'system', 'articulated', 'government', 'cabinet', 'committee', 'assigned', 'responsibility', 'purpose', 'identify', 'review', 'national', 'priorities', 'government', 'relevance', 'higher', 'education', 'sector', 'ireland', 'priorities', 'inform', 'strategic', 'dialogue', 'institutions', 'state', 'hea', 'key', 'organizations', 'follows', 'department', 'education', 'skills', 'higher', 'education', 'authority', 'qualifications', 'quality', 'authority', 'ireland', 'comprising', 'agencies', 'hetac', 'fetac', 'nqai', 'iuqb', 'higher', 'education', 'institutions', 'department', 'jobs', 'enterprise', 'innovation', 'research', 'funding', 'agencies', 'sfi', 'ei', 'hrb', 'others', 'existing', 'structures', 'delivery', 'ssti', 'innovation', 'taskforce', 'internationalisation', 'recommendations', 'continue', 'oversee', 'implementation', 'recommendations', 'relating', 'implementation', 'plan', 'june', 'page', 'area', 'responsibility', 'djei', 'des', 'report', 'higher', 'education', 'strategy', 'implementation', 'oversight', 'group', 'progress', 'appropriate', 'major', 'implementation', 'actions', 'following', 'section', 'details', 'major', 'implementation', 'actions', 'departments', 'organizations', 'listed', 'section', 'key', 'roles', 'play', 'implementation', 'strategy', 'numbers', 'brackets', 'action', 'refers', 'recommendation', 'number', 'strategy', 'report', 'timescale', 'categories', 'refer', 'immediate', 'within', 'one', 'year', 'short', 'term', 'within', 'two', 'years', 'medium', 'term', 'two', 'five', 'years', 'long', 'term', 'longer', 'five', 'years', 'department', 'education', 'skills', 'following', 'actions', 'lead', 'responsibility', 'des', 'implemented', 'partnership', 'actors', 'appropriate', 'necessary', 'des', 'draw', 'upon', 'additional', 'expertise', 'implementation', 'process', 'immediate', 'actions', 'identify', 'appropriate', 'expertise', 'assist', 'drawing', 'criteria', 'designation', 'institutes', 'technology', 'ii', 'lead', 'process', 'establishment', 'publication', 'criteria', 'designation', 'institutes', 'technology', 'conjunction', 'hea', 'ioti', 'iii', 'develop', 'project', 'plan', 'hea', 'transfer', 'administrative', 'responsibility', 'funding', 'des', 'funded', 'institutions', 'higher', 'education', 'authority', 'case', 'case', 'basis', 'pending', 'potential', 'legislation', 'see', 'iv', 'progress', 'negotiations', 'academic', 'contracts', 'institute', 'technology', 'university', 'sector', 'hr', 'reforms', 'improve', 'flexibility', 'v', 'progress', 'student', 'support', 'reform', 'towards', 'single', 'agency', 'identification', 'selection', 'agency', 'government', 'approval', 'obtained', 'vi', 'agree', 'terms', 'reference', 'hea', 'sustainability', 'review', 'vii', 'review', 'relevant', 'legislation', 'order', 'identify', 'legislative', 'amendments', 'new', 'legislation', 'required', 'see', 'viii', 'draft', 'necessary', 'legislation', 'detail', 'ix', 'initiate', 'review', 'capacity', 'hea', 'sec', 'immediate', 'short', 'term', 'minister', 'ask', 'hea', 'convene', 'independent', 'expert', 'panel', 'first', 'stage', 'designation', 'institutes', 'technology', 'following', 'development', 'criteria', 'see', 'iv', 'v', 'ii', 'transition', 'new', 'student', 'support', 'payment', 'arrangements', 'legislative', 'considerations', 'following', 'areas', 'may', 'require', 'legislative', 'amendments', 'new', 'legislation', 'implementation', 'plan', 'june', 'page', 'governance', 'institutions', 'require', 'amendments', 'universities', 'act', 'well', 'potential', 'amendments', 'institute', 'technology', 'act', 'governance', 'hea', 'require', 'amendment', 'hea', 'act', 'already', 'amended', 'iot', 'designation', 'institutes', 'technology', 'require', 'new', 'legislation', 'technological', 'university', 'student', 'support', 'reforms', 'student', 'support', 'act', 'complete', 'transferring', 'des', 'funded', 'standalone', 'institutions', 'may', 'require', 'amendment', 'hea', 'act', 'enabling', 'commissioning', 'teaching', 'learning', 'activities', 'private', 'institutions', 'hea', 'require', 'amendment', 'hea', 'act', 'strategic', 'dialogue', 'performance', 'funding', 'relevant', 'enabling', 'legislative', 'issues', 'higher', 'education', 'authority', 'immediate', 'actions', 'review', 'data', 'collection', 'capacity', 'identification', 'gaps', 'ii', 'co', 'operate', 'organizational', 'review', 'sec', 'iii', 'develop', 'proposals', 'new', 'institutional', 'funding', 'model', 'credit', 'based', 'allocation', 'continue', 'phase', 'iot', 'funding', 'model', 'iv', 'identify', 'submit', 'minister', 'des', 'kpis', 'system', 'based', 'major', 'objectives', 'report', 'well', 'kpi', 'hea', 'accountability', 'v', 'provide', 'advice', 'system', 'sustainability', 'light', 'current', 'funding', 'participation', 'levels', 'offer', 'guidance', 'future', 'growth', 'light', 'expected', 'funding', 'vi', 'advise', 'institutions', 'clusters', 'sec', 'vii', 'collaborate', 'des', 'identification', 'publication', 'criteria', 'designation', 'iots', 'following', 'consolidation', 'iots', 'viii', 'conjunction', 'qqai', 'establish', 'national', 'quality', 'framework', 'irish', 'phd', 'education', 'building', 'work', 'hea', 'iuqb', 'iua', 'ix', 'take', 'funding', 'des', 'funded', 'institutions', 'according', 'project', 'plan', 'developed', 'des', 'see', 'v', 'x', 'convene', 'conference', 'ncca', 'nd', 'level', 'rd', 'level', 'interface', 'sec', 'immediate', 'short', 'term', 'actions', 'commission', 'put', 'place', 'adequate', 'data', 'collection', 'measure', 'institutional', 'system', 'performance', 'ii', 'put', 'place', 'national', 'student', 'survey', 'employer', 'survey', 'consultation', 'qqai', 'development', 'standard', 'set', 'questions', 'students', 'employers', 'international', 'practice', 'inform', 'process', 'iii', 'establish', 'network', 'agencies', 'interact', 'higher', 'education', 'sector', 'enable', 'open', 'information', 'flows', 'ensure', 'alignment', 'strategies', 'iv', 'initiate', 'discussions', 'iua', 'ioti', 'regarding', 'parameters', 'format', 'strategic', 'dialogue', 'performance', 'contracts', 'v', 'identify', 'important', 'measurable', 'performance', 'outcomes', 'institution', 'vi', 'develop', 'framework', 'strategic', 'dialogue', 'process', 'implementation', 'plan', 'june', 'page', 'vii', 'review', 'course', 'provision', 'sector', 'preparation', 'proposals', 'future', 'process', 'course', 'provision', 'sec', 'qualifications', 'quality', 'authority', 'ireland', 'drafting', 'legislation', 'qqai', 'almost', 'complete', 'ceo', 'designate', 'appointed', 'expected', 'organization', 'established', 'second', 'half', 'immediate', 'short', 'term', 'actions', 'continue', 'implement', 'build', 'upon', 'nfq', 'sec', 'ii', 'co', 'ordinate', 'development', 'subject', 'guidelines', 'framework', 'conjunction', 'subject', 'experts', 'institutions', 'iii', 'initiate', 'full', 'comprehensive', 'review', 'external', 'examiner', 'system', 'grading', 'system', 'iv', 'put', 'place', 'review', 'phd', 'provision', 'according', 'new', 'national', 'framework', 'developed', 'hea', 'formal', 'assessment', 'informed', 'good', 'practice', 'international', 'metrics', 'immediate', 'medium', 'term', 'actions', 'ensure', 'alignment', 'balance', 'learning', 'outcomes', 'pedagogy', 'assessment', 'course', 'quality', 'assurance', 'institutions', 'programmes', 'ii', 'begin', 'development', 'national', 'framework', 'rpl', 'based', 'work', 'already', 'underway', 'egfsn', 'nqai', 'iii', 'assist', 'hei', 'develop', 'structures', 'procedures', 'involve', 'wider', 'community', 'programme', 'design', 'revision', 'higher', 'education', 'institutions', 'following', 'actions', 'apply', 'higher', 'education', 'institutions', 'immediate', 'short', 'term', 'actions', 'institutional', 'strategies', 'directed', 'towards', 'highest', 'quality', 'research', 'teaching', 'learning', 'experience', 'ii', 'put', 'place', 'comprehensive', 'anonymous', 'student', 'feedback', 'system', 'coupled', 'structures', 'ensure', 'prompt', 'action', 'taken', 'response', 'concerns', 'develop', 'implement', 'comprehensive', 'approach', 'human', 'resources', 'support', 'achievement', 'higher', 'education', 'strategy', 'goal', 'specific', 'recommendations', 'strategy', 'relation', 'performance', 'talent', 'management', 'remuneration', 'career', 'structures', 'contractual', 'provisions', 'overall', 'accountability', 'framework', 'iii', 'develop', 'implement', 'comprehensive', 'approach', 'human', 'resources', 'support', 'achievement', 'higher', 'education', 'strategy', 'goal', 'specific', 'recommendations', 'strategy', 'relation', 'performance', 'talent', 'management', 'remuneration', 'career', 'structures', 'contractual', 'provisions', 'overall', 'accountability', 'framework', 'iv', 'reflect', 'parity', 'esteem', 'roles', 'research', 'teaching', 'resource', 'allocation', 'promotion', 'criteria', 'performance', 'metrics', 'staff', 'institution', 'implementation', 'plan', 'june', 'page', 'v', 'allocate', 'resources', 'equally', 'full', 'part', 'time', 'students', 'campus', 'students', 'vi', 'review', 'accreditation', 'courses', 'include', 'work', 'service', 'learning', 'vii', 'engage', 'qqai', 'institutions', 'ensure', 'flexible', 'routes', 'within', 'across', 'higher', 'education', 'institutions', 'viii', 'expand', 'provision', 'induction', 'provision', 'preparation', 'supports', 'st', 'year', 'students', 'ix', 'develop', 'options', 'reform', 'cao', 'entry', 'system', 'section', 'x', 'engage', 'qqai', 'provide', 'experts', 'develop', 'subject', 'guidelines', 'framework', 'xi', 'engage', 'qqai', 'review', 'external', 'examiner', 'system', 'grading', 'system', 'xii', 'ensure', 'academic', 'staff', 'including', 'research', 'active', 'staff', 'engaged', 'undergraduate', 'teaching', 'laboratory', 'supervision', 'tutorials', 'xiii', 'engage', 'employers', 'facilitate', 'mobility', 'staff', 'institutions', 'sectors', 'xiv', 'engage', 'employers', 'facilitate', 'mobility', 'students', 'heis', 'business', 'professions', 'wider', 'community', 'xv', 'co', 'operate', 'fully', 'hea', 'implementation', 'fully', 'comparable', 'database', 'timely', 'provision', 'data', 'deemed', 'necessary', 'measure', 'performance', 'xvi', 'co', 'operate', 'fully', 'hea', 'strategic', 'dialogue', 'process', 'immediate', 'medium', 'term', 'engage', 'qqai', 'adopt', 'national', 'framework', 'rpl', 'ii', 'review', 'course', 'design', 'include', 'broad', 'based', 'interdisciplinary', 'opportunities', 'first', 'year', 'students', 'within', 'institution', 'conjunction', 'institutions', 'iii', 'review', 'undergraduate', 'postgraduate', 'education', 'ensure', 'range', 'generic', 'skills', 'incorporated', 'programme', 'design', 'iv', 'ensure', 'alignment', 'balance', 'learning', 'outcomes', 'pedagogy', 'assessment', 'following', 'actions', 'apply', 'institute', 'technology', 'sector', 'immediate', 'short', 'term', 'engage', 'institutional', 'strategic', 'review', 'identify', 'whether', 'designation', 'desired', 'outcome', 'institution', 'ii', 'identify', 'suitable', 'partners', 'amalgamation', 'begin', 'negotiations', 'iii', 'engage', 'des', 'hea', 'identification', 'criteria', 'designation', 'short', 'term', 'medium', 'term', 'put', 'forward', 'proposals', 'minister', 'department', 'education', 'skills', 'amalgamation', 'ii', 'applicable', 'develop', 'submit', 'proposals', 'first', 'stage', 'designation', 'process', 'following', 'actions', 'apply', 'small', 'standalone', 'institutions', 'immediate', 'actions', 'submit', 'proposals', 'amalgamations', 'alliances', 'appropriate', 'hea', 'implementation', 'plan', 'june', 'page', 'department', 'jobs', 'enterprise', 'innovation', 'immediate', 'short', 'term', 'actions', 'develop', 'national', 'ip', 'protocol', 'appropriate', 'structures', 'ii', 'develop', 'review', 'mechanisms', 'performance', 'metrics', 'metrics', 'measure', 'return', 'investment', 'etc', 'ensure', 'parity', 'esteem', 'differentiated', 'research', 'missions', 'across', 'disciplines', 'across', 'types', 'research', 'innovation', 'activities', 'including', 'knowledge', 'transfer', 'commercialization', 'iii', 'engage', 'research', 'prioritization', 'exercise', 'establish', 'priority', 'areas', 'focus', 'irish', 'public', 'investment', 'research', 'research', 'funding', 'agencies', 'cooperate', 'deji', 'appropriate', 'lead', 'actions', 'implementation', 'cost', 'overall', 'delivery', 'strategy', 'predicated', 'need', 'meet', 'increasing', 'demand', 'higher', 'education', 'result', 'significant', 'expansion', 'system', 'coming', 'twenty', 'years', 'overall', 'resource', 'implications', 'dealt', 'strategy', 'addresses', 'need', 'widen', 'funding', 'base', 'explore', 'resource', 'efficiencies', 'necessary', 'pre', 'requisite', 'increased', 'exchequer', 'investment', 'funding', 'model', 'used', 'distribute', 'exchequer', 'funding', 'also', 'aligned', 'strategic', 'priorities', 'outlined', 'strategy', 'report', 'implementation', 'recommendations', 'strategy', 'report', 'involve', 'mix', 'high', 'low', 'cost', 'neutral', 'cost', 'saving', 'actions', 'resource', 'implications', 'specific', 'recommendations', 'addressed', 'part', 'implementation', 'process', 'context', 'need', 'prioritize', 'available', 'resources', 'support', 'progression', 'strategy', 'implementation', 'monitoring', 'overall', 'monitoring', 'implementation', 'overseen', 'implementation', 'oversight', 'group', 'described', 'implementation', 'recommendations', 'identified', 'responsibility', 'hei', 'also', 'monitored', 'strategic', 'dialogue', 'process', 'include', 'measurement', 'performance', 'outcomes', 'agreed', 'areas', 'hea', 'implementation', 'quality', 'assurance', 'recommendations', 'may', 'monitored', 'qqai', 'course', 'quality', 'assurance', 'remit', 'implementation', 'plan', 'june', 'page', 'implementation', 'plan', 'june', 'page', 'appendix', 'table', 'recommendations', 'table', 'shows', 'list', 'recommendations', 'report', 'strategy', 'group', 'timeline', 'shows', 'time', 'implementation', 'start', 'implementation', 'complete', 'immediate', 'implies', 'action', 'within', 'one', 'year', 'short', 'term', 'less', 'two', 'years', 'medium', 'term', 'two', 'five', 'years', 'long', 'term', 'five', 'years', 'cases', 'may', 'relevant', 'action', 'already', 'underway', 'case', 'immediate', 'denotes', 'immediate', 'actions', 'suggested', 'enhance', 'existing', 'activity', 'resource', 'issues', 'noted', 'comments', 'column', 'higher', 'education', 'institutions', 'require', 'prioritisation', 'within', 'institutional', 'budgets', 'implementation', 'oversight', 'group', 'monitor', 'progress', 'delivery', 'recommendations', 'appropriate', 'identify', 'co', 'ordinate', 'detailed', 'supporting', 'actions', 'required', 'following', 'abbreviations', 'used', 'min', 'e', 'minister', 'education', 'skills', 'min', 'eji', 'minister', 'jobs', 'enterprise', 'innovation', 'hei', 'higher', 'education', 'institution', 'hea', 'higher', 'education', 'authority', 'qqai', 'qualifications', 'quality', 'assurance', 'ireland', 'sti', 'science', 'technology', 'innovation', 'idc', 'interdepartmental', 'committee', 'ssti', 'herg', 'higher', 'education', 'research', 'group', 'ssti', 'strategy', 'science', 'technology', 'innovation', 'ntma', 'national', 'treasury', 'management', 'agency', 'implementation', 'plan', 'june', 'page', 'teaching', 'learning', 'lead', 'actor', 'timeline', 'comments', 'start', 'imp', 'complete', 'higher', 'education', 'students', 'future', 'min', 'e', 'immediate', 'ongoing', 'overarching', 'recommendation', 'excellent', 'teaching', 'learning', 'experience', 'informed', 'min', 'jei', 'resource', 'intensive', 'date', 'research', 'facilitated', 'high', 'quality', 'hei', 'learning', 'environment', 'state', 'art', 'learning', 'resources', 'libraries', 'laboratories', 'e', 'learning', 'facilities', 'higher', 'education', 'institutions', 'put', 'place', 'systems', 'low', 'cost', 'capture', 'feedback', 'students', 'use', 'feedback', 'inform', 'institutional', 'programme', 'management', 'well', 'national', 'policy', 'cid', 'national', 'student', 'survey', 'system', 'put', 'place', 'hea', 'immediate', 'short', 'term', 'results', 'published', 'cid', 'every', 'higher', 'education', 'institution', 'put', 'place', 'hei', 'immediate', 'short', 'term', 'comprehensive', 'anonymous', 'student', 'feedback', 'system', 'coupled', 'structures', 'ensure', 'action', 'taken', 'promptly', 'response', 'student', 'concerns', 'cid', 'every', 'student', 'learn', 'environment', 'informed', 'research', 'scholarship', 'date', 'practice', 'knowledge', 'hei', 'immediate', 'short', 'term', 'cost', 'institutional', 'cid', 'roles', 'teaching', 'research', 'afforded', 'parity', 'hea', 'performance', 'assessed', 'esteem', 'reflected', 'resource', 'allocation', 'strategic', 'dialogue', 'promotion', 'criteria', 'metrics', 'used', 'assess', 'process', 'performance', 'individual', 'institution', 'system', 'level', 'implementation', 'plan', 'june', 'page', 'irish', 'higher', 'education', 'system', 'must', 'continue', 'involve', 'implementation', 'develop', 'clear', 'routes', 'progression', 'transfer', 'well', 'funding', 'model', 'changes', 'non', 'traditional', 'entry', 'routes', 'programme', 'changes', 'level', 'immediate', 'ongoing', 'heis', 'continuing', 'development', 'cid', 'coming', 'decades', 'delivery', 'higher', 'education', 'modularisation', 'deeper', 'ireland', 'must', 'characterised', 'flexibility', 'innovation', 'implementation', 'nfq', 'resource', 'issues', 'heis', 'cid', 'students', 'whether', 'full', 'time', 'part', 'time', 'campus', 'hea', 'immediate', 'short', 'term', 'campus', 'equally', 'supported', 'funding', 'hei', 'model', 'used', 'allocate', 'resources', 'within', 'institutions', 'hei', 'immediate', 'medium', 'term', 'possible', 'resource', 'issues', 'cid', 'undergraduate', 'students', 'encouraged', 'spend', 'industry', 'partnership', 'required', 'time', 'work', 'service', 'situation', 'formally', 'acknowledge', 'work', 'accreditation', 'inclusion', 'student', 'diploma', 'supplement', 'cid', 'routes', 'progression', 'flexible', 'within', 'hei', 'immediate', 'short', 'term', 'across', 'higher', 'education', 'institutions', 'qqai', 'cid', 'national', 'framework', 'recognition', 'prior', 'learning', 'hei', 'immediate', 'medium', 'term', 'resource', 'issues', 'rpl', 'must', 'developed', 'recognised', 'higher', 'qqai', 'education', 'institutions', 'implementation', 'plan', 'june', 'page', 'teaching', 'learning', 'contd', 'lead', 'timeline', 'comments', 'actor', 'start', 'imp', 'complete', 'higher', 'education', 'institutions', 'prepare', 'first', 'year', 'students', 'better', 'learning', 'experience', 'engage', 'successfully', 'likely', 'resource', 'timing', 'issues', 'heis', 'cid', 'higher', 'education', 'institutions', 'expand', 'provision', 'hei', 'immediate', 'short', 'induction', 'preparation', 'programmes', 'first', 'year', 'term', 'students', 'cid', 'higher', 'education', 'institutions', 'offer', 'broad', 'based', 'hei', 'immediate', 'medium', 'courses', 'interdisciplinary', 'learning', 'opportunities', 'students', 'first', 'year', 'undergraduate', 'studies', 'undergraduate', 'taught', 'postgraduate', 'likely', 'resource', 'timing', 'issues', 'programmes', 'develop', 'generic', 'skills', 'needed', 'heis', 'effective', 'engagement', 'society', 'workplace', 'cid', 'undergraduate', 'postgraduate', 'education', 'explicitly', 'hei', 'mmediate', 'medium', 'address', 'generic', 'skills', 'required', 'effective', 'engagement', 'qqai', 'term', 'society', 'workplace', 'cid', 'design', 'courses', 'programmes', 'higher', 'education', 'hei', 'immediate', 'medium', 'institutions', 'ensure', 'alignment', 'balance', 'qqai', 'term', 'learning', 'outcomes', 'pedagogy', 'assessment', 'implementation', 'plan', 'june', 'page', 'teaching', 'learning', 'contd', 'lead', 'timeline', 'comments', 'actor', 'start', 'imp', 'complete', 'light', 'scale', 'transformation', 'teaching', 'learning', 'way', 'irish', 'higher', 'education', 'quality', 'assurance', 'framework', 'must', 'reviewed', 'developed', 'hei', 'immediate', 'short', 'term', 'resource', 'issues', 'heis', 'cid', 'subject', 'guidelines', 'developed', 'support', 'qqai', 'national', 'framework', 'qualifications', 'work', 'progressed', 'subject', 'experts', 'academic', 'community', 'coordinated', 'new', 'qualifications', 'quality', 'assurance', 'ireland', 'agency', 'cid', 'full', 'comprehensive', 'review', 'undertaken', 'qqai', 'immediate', 'short', 'term', 'require', 'qqai', 'external', 'examiner', 'system', 'grading', 'system', 'running', 'commencement', 'generally', 'estimated', 'mid', 'higher', 'education', 'institutions', 'must', 'ensure', 'teaching', 'staff', 'qualified', 'competent', 'hei', 'immediate', 'medium', 'term', 'resource', 'timing', 'issues', 'heis', 'teaching', 'learning', 'support', 'ongoing', 'development', 'improvement', 'skills', 'implementation', 'plan', 'june', 'page', 'lead', 'actor', 'timeline', 'comments', 'research', 'start', 'imp', 'complete', 'investment', 'r', 'increased', 'also', 'rec', 'innovation', 'taskforce', 'recommendation', 'cid', 'investment', 'r', 'target', 'increased', 'per', 'cent', 'page', 'major', 'exchequer', 'gdp', 'line', 'renewed', 'programme', 'gov', 'immediate', 'long', 'term', 'implications', 'government', 'innovation', 'taskforce', 'report', 'recommends', 'timeframe', 'delivery', 'investment', 'updated', 'ssti', 'period', 'researcher', 'role', 'afforded', 'wider', 'focus', 'innovation', 'taskforce', 'report', 'better', 'mobility', 'increased', 'career', 'opportunities', 'recommendation', 'page', 'cid', 'clear', 'career', 'path', 'established', 'researchers', 'min', 'e', 'immediate', 'short', 'term', 'develops', 'talents', 'rewards', 'hei', 'appropriately', 'overseen', 'ssti', 'cid', 'addition', 'research', 'active', 'staff', 'normally', 'implementation', 'structures', 'hei', 'immediate', 'immediate', 'participating', 'fully', 'undergraduate', 'teaching', 'researchers', 'work', 'standardised', 'career', 'possible', 'afforded', 'opportunities', 'path', 'developed', 'participate', 'teaching', 'laboratory', 'supervision', 'herg', 'although', 'idc', 'tutorials', 'signed', 'cid', 'greater', 'mobility', 'staff', 'facilitated', 'higher', 'education', 'one', 'hand', 'enterprise', 'hei', 'immediate', 'short', 'term', 'industry', 'partnership', 'required', 'public', 'service', 'promote', 'knowledge', 'flows', 'higher', 'education', 'institutions', 'capitalise', 'expertise', 'within', 'higher', 'education', 'take', 'lead', 'co', 'benefit', 'society', 'economy', 'could', 'ordinating', 'facilitating', 'role', 'full', 'time', 'part', 'time', 'secondments', 'six', 'oversight', 'group', 'hea', 'months', 'time', 'consultancy', 'academics', 'roles', 'ministers', 'mutual', 'benefit', 'individual', 'institution', 'education', 'skills', 'society', 'finance', 'broader', 'cid', 'ensure', 'effective', 'level', 'collaboration', 'development', 'public', 'service', 'implementation', 'plan', 'june', 'page', 'enterprise', 'funding', 'agencies', 'higher', 'education', 'mobility', 'schemes', 'institutions', 'develop', 'review', 'mechanisms', 'performance', 'metrics', 'promotional', 'criteria', 'ensure', 'research', 'immediate', 'short', 'term', 'parity', 'esteem', 'differentiated', 'research', 'missions', 'across', 'funding', 'disciplines', 'across', 'types', 'research', 'innovation', 'agencies', 'activities', 'including', 'knowledge', 'transfer', 'hei', 'commercialisation', 'hea', 'consistent', 'quality', 'framework', 'developed', 'role', 'ssti', 'implementation', 'irish', 'phd', 'education', 'based', 'critical', 'mass', 'structures', 'inputting', 'standards', 'development', 'cid', 'demanding', 'framework', 'meets', 'exceeds', 'system', 'oversight', 'international', 'standards', 'phd', 'education', 'hea', 'immediate', 'immediate', 'appropriate', 'quality', 'phd', 'applied', 'consistently', 'across', 'higher', 'education', 'institutions', 'qqai', 'provision', 'also', 'essential', 'underpinning', 'irish', 'phd', 'brand', 'important', 'element', 'lead', 'greater', 'consolidation', 'collaboration', 'strategic', 'dialogue', 'process', 'among', 'providers', 'stronger', 'offerings', 'students', 'public', 'research', 'funding', 'prioritised', 'better', 'innovation', 'taskforce', 'report', 'coordinated', 'underpinned', 'effective', 'foresight', 'recommendation', 'page', 'review', 'performance', 'measurement', 'systems', 'gov', 'immediate', 'ongoing', 'cid', 'research', 'across', 'disciplines', 'supported', 'innovation', 'taskforce', 'report', 'cabinet', 'comm', 'inform', 'teaching', 'ensure', 'platform', 'strong', 'recommendation', 'page', 'sti', 'research', 'strategic', 'priority', 'areas', 'cid', 'focused', 'research', 'funding', 'based', 'national', 'immediate', 'ongoing', 'oversight', 'delivery', 'priority', 'setting', 'exercises', 'exercises', 'identify', 'number', 'agenda', 'idc', 'herg', 'etc', 'thematic', 'areas', 'ireland', 'excel', 'make', 'mark', 'internationally', 'maximise', 'economic', 'social', 'return', 'responsibility', 'cabinet', 'priorities', 'reviewed', 'modified', 'ensure', 'committee', 'science', 'ireland', 'research', 'system', 'remains', 'responsive', 'technology', 'innovation', 'implementation', 'plan', 'june', 'page', 'changing', 'national', 'international', 'environments', 'cid', 'selecting', 'priorities', 'particular', 'attention', 'paid', 'immediate', 'ongoing', 'steering', 'group', 'national', 'opportunities', 'research', 'spanning', 'ahss', 'stem', 'prioritisation', 'exercise', 'established', 'auspices', 'min', 'eti', 'cid', 'structures', 'delivering', 'research', 'funding', 'reformed', 'order', 'immediate', 'ongoing', 'fully', 'coordinate', 'funding', 'across', 'government', 'cid', 'agencies', 'ensure', 'funded', 'research', 'identified', 'funding', 'cid', 'pathway', 'single', 'lead', 'responsible', 'agency', 'underpinned', 'commercialisation', 'supports', 'ensure', 'balance', 'different', 'types', 'research', 'cid', 'fundamental', 'strategic', 'applied', 'single', 'investigator', 'large', 'multi', 'disciplinary', 'teams', 'working', 'partnership', 'relevant', 'players', 'knowledge', 'transfer', 'better', 'embedded', 'min', 'jei', 'immediate', 'ongoing', 'innovation', 'taskforce', 'report', 'institutional', 'activity', 'rewarded', 'accordingly', 'recommendation', 'pg', 'hei', 'commercialisation', 'intellectual', 'property', 'publicly', 'funded', 'research', 'primarily', 'provide', 'gross', 'return', 'economy', 'innovation', 'taskforce', 'report', 'min', 'jei', 'immediate', 'short', 'term', 'cid', 'national', 'ip', 'protocol', 'developed', 'structures', 'recommendation', 'pg', 'agreed', 'facilitate', 'speedy', 'commercialisation', 'ip', 'work', 'already', 'underway', 'higher', 'education', 'institutions', 'ip', 'implementation', 'group', 'established', 'foot', 'forf', 'review', 'innovation', 'tf', 'report', 'implementation', 'plan', 'june', 'page', 'lead', 'actor', 'timeline', 'comments', 'engaging', 'wider', 'society', 'start', 'imp', 'complete', 'engagement', 'wider', 'community', 'must', 'become', 'lead', 'role', 'heis', 'possible', 'firmly', 'embedded', 'mission', 'higher', 'education', 'support', 'role', 'implementation', 'institutions', 'achieve', 'higher', 'education', 'institutions', 'oversight', 'group', 'finance', 'need', 'take', 'following', 'actions', 'respect', 'possible', 'supporting', 'policy', 'actions', 'staff', 'mobility', 'cid', 'encourage', 'greater', 'inward', 'outward', 'mobility', 'staff', 'students', 'higher', 'education', 'institutions', 'heis', 'immediate', 'medium', 'term', 'business', 'industry', 'professions', 'wider', 'community', 'industry', 'cid', 'respond', 'positively', 'continuing', 'professional', 'development', 'needs', 'wider', 'community', 'develop', 'ongoing', 'heis', 'immediate', 'deliver', 'appropriate', 'modules', 'programmes', 'flexible', 'responsive', 'way', 'cid', 'recognise', 'civic', 'engagement', 'students', 'heis', 'qqai', 'short', 'term', 'programme', 'accreditation', 'appropriate', 'immediate', 'cid', 'put', 'place', 'structures', 'procedures', 'welcome', 'heis', 'encourage', 'involvement', 'wider', 'community', 'short', 'term', 'immediate', 'range', 'activities', 'including', 'programme', 'design', 'revision', 'heis', 'immediate', 'addition', 'actions', 'national', 'survey', 'short', 'term', 'employers', 'taken', 'hea', 'regular', 'basis', 'qqai', 'possible', 'involvement', 'enterprise', 'used', 'part', 'assessment', 'quality', 'outcomes', 'agencies', 'system', 'hea', 'implementation', 'plan', 'june', 'page', 'lead', 'actor', 'timeline', 'comments', 'internationalising', 'higher', 'education', 'start', 'imp', 'complete', 'higher', 'education', 'institutions', 'set', 'consistent', 'international', 'vision', 'institutional', 'strategy', 'internationalisation', 'strategy', 'cid', 'related', 'institutional', 'mission', 'wider', 'hei', 'immediate', 'short', 'term', 'separately', 'adopted', 'national', 'policy', 'goals', 'government', 'high', 'level', 'group', 'co', 'ordinate', 'policy', 'delivery', 'upfront', 'costs', 'potential', 'cid', 'considers', 'internationalisation', 'global', 'engagement', 'overall', 'revenue', 'generation', 'widest', 'perspective', 'higher', 'education', 'institutions', 'put', 'place', 'appropriate', 'supports', 'promote', 'integration', 'safety', 'hei', 'immediate', 'short', 'term', 'security', 'well', 'international', 'students', 'implementation', 'plan', 'june', 'page', 'lead', 'timeline', 'comments', 'next', 'steps', 'leadership', 'governance', 'actor', 'start', 'imp', 'complete', 'ireland', 'autonomous', 'institutions', 'held', 'overarching', 'national', 'policy', 'accountable', 'performance', 'state', 'priorities', 'already', 'expressed', 'behalf', 'irish', 'citizens', 'national', 'reports', 'e', 'g', 'cid', 'minister', 'education', 'skills', 'articulate', 'min', 'e', 'immediate', 'ongoing', 'building', 'smart', 'economy', 'government', 'national', 'priorities', 'higher', 'inform', 'initial', 'education', 'strategic', 'dialogue', 'process', 'summarised', 'min', 'e', 'immediate', 'ongoing', 'memorandum', 'government', 'cid', 'ensure', 'national', 'priorities', 'higher', 'hea', 'agreement', 'education', 'informed', 'whole', 'government', 'approach', 'minister', 'education', 'skills', 'minister', 'convene', 'chair', 'cabinet', 'committee', 'higher', 'education', 'required', 'cabinet', 'committee', 'network', 'agencies', 'interact', 'higher', 'review', 'agree', 'education', 'convened', 'hea', 'overarching', 'national', 'priorities', 'performance', 'cid', 'hea', 'continue', 'accountable', 'min', 'e', 'minister', 'funding', 'oversight', 'hea', 'immediate', 'ongoing', 'sector', 'new', 'process', 'strategic', 'dialogue', 'hei', 'hea', 'commence', 'strategic', 'introduced', 'enhance', 'accountability', 'dialogue', 'process', 'heis', 'performance', 'respecting', 'institutional', 'autonomy', 'build', 'ongoing', 'student', 'cid', 'accountability', 'framework', 'system', 'hea', 'immediate', 'ongoing', 'database', 'full', 'economic', 'cost', 'underpinned', 'availability', 'fully', 'hei', 'etc', 'developments', 'comparable', 'system', 'database', 'data', 'student', 'implementation', 'plan', 'june', 'page', 'staff', 'profiles', 'efficiency', 'indicators', 'aid', 'research', 'evaluation', 'public', 'policy', 'higher', 'education', 'inform', 'hea', 'strategic', 'dialogue', 'process', 'governance', 'structures', 'reformed', 'legislation', 'required', 'institutional', 'system', 'levels', 'give', 'effect', 'cid', 'size', 'governing', 'authorities', 'higher', 'min', 'e', 'immediate', 'medium', 'term', 'recommendation', 'education', 'institutions', 'ireland', 'reduced', 'work', 'commence', 'drafting', 'heads', 'bill', 'majority', 'members', 'universities', 'amendment', 'act', 'lay', 'members', 'expertise', 'relevant', 'min', 'e', 'immediate', 'medium', 'term', 'new', 'legislation', 'governance', 'higher', 'education', 'technological', 'university', 'cid', 'board', 'hea', 'reduced', 'size', 'members', 'composition', 'reformed', 'also', 'amendment', 'ensure', 'contains', 'appropriate', 'blend', 'schedule', 'hea', 'act', 'expertise', 'experience', 'undertake', 'mission', 'filling', 'upcoming', 'vacancies', 'authority', 'december', 'take', 'account', 'recommended', 'composition', 'skill', 'sets', 'organisational', 'review', 'hea', 'executive', 'commissioned', 'des', 'steering', 'group', 'established', 'oversee', 'low', 'cost', 'implementation', 'plan', 'june', 'page', 'lead', 'timeline', 'comments', 'next', 'steps', 'coherent', 'framework', 'actor', 'start', 'imp', 'complete', 'framework', 'developed', 'facilitate', 'deeper', 'collaboration', 'system', 'wide', 'collaboration', 'diverse', 'regional', 'cluster', 'basis', 'institutions', 'promoted', 'strategic', 'dialogue', 'individual', 'cid', 'collaboration', 'autonomous', 'institutions', 'within', 'region', 'promoted', 'order', 'min', 'es', 'institutions', 'clusters', 'institutions', 'hea', 'advise', 'cid', 'improve', 'responsiveness', 'local', 'economic', 'hei', 'immediate', 'ongoing', 'appropriate', 'regional', 'cluster', 'social', 'needs', 'hea', 'configurations', 'building', 'encourage', 'progression', 'pathways', 'cid', 'spatial', 'strategy', 'existing', 'students', 'regional', 'relationships', 'facilitate', 'academic', 'interchange', 'exchange', 'cid', 'potential', 'cost', 'efficiencies', 'ideas', 'cid', 'rational', 'collaboration', 'beyond', 'regional', 'boundaries', 'also', 'continue', 'supported', 'cid', 'new', 'universities', 'basis', 'section', 'universities', 'act', 'institute', 'technology', 'sector', 'commence', 'hei', 'immediate', 'short', 'term', 'prioritisation', 'actions', 'process', 'evolution', 'consolidation', 'heis', 'initiate', 'amalgamated', 'institutions', 'reaching', 'appropriate', 'amalgamation', 'proposals', 'scale', 'capacity', 'could', 'potentially', 'designated', 'des', 'hea', 'prioritise', 'development', 'early', 'implementation', 'plan', 'june', 'page', 'cid', 'process', 'put', 'place', 'allow', 'min', 'es', 'immediate', 'medium', 'term', 'publication', 'performance', 'institutes', 'technology', 'emerged', 'criteria', 'review', 'process', 'hea', 'process', 'consolidation', 'apply', 'designation', 'lead', 'designation', 'technological', 'university', 'iot', 'amalgamated', 'institutions', 'work', 'commence', 'draft', 'legislation', 'tech', 'uni', 'including', 'objects', 'functions', 'tu', 'designation', 'criteria', 'two', 'stage', 'review', 'process', 'developed', 'provide', 'initial', 'outline', 'agreement', 'merger', 'proposals', 'potential', 'cost', 'efficiencies', 'long', 'term', 'smaller', 'institutions', 'consolidated', 'promote', 'coherence', 'critical', 'mass', 'merging', 'process', 'specified', 'cid', 'case', 'institutions', 'receipt', 'core', 'grant', 'universities', 'act', 'part', 'ii', 'hei', 'immediate', 'medium', 'term', 'partial', 'full', 'free', 'fees', 'funding', 'overall', 'merge', 'iot', 'process', 'framework', 'incentives', 'operate', 'hea', 'specified', 'legislation', 'achieve', 'incorporation', 'merger', 'institutions', 'existing', 'universities', 'institutes', 'technology', 'technological', 'universities', 'small', 'number', 'smaller', 'institutions', 'receive', 'free', 'cid', 'funding', 'institutions', 'receipt', 'free', 'fees', 'min', 'e', 'immediate', 'ongoing', 'fees', 'students', 'specific', 'funding', 'extended', 'beyond', 'programmes', 'core', 'grant', 'implementation', 'plan', 'june', 'page', 'institutions', 'currently', 'category', 'hea', 'funding', 'hea', 'review', 'continuing', 'support', 'cid', 'respect', 'private', 'institutions', 'independent', 'currently', 'category', 'colleges', 'receipt', 'direct', 'funding', 'open', 'hea', 'commission', 'teaching', 'may', 'require', 'amendments', 'learning', 'activity', 'economic', 'cost', 'basis', 'hea', 'immediate', 'ongoing', 'legislation', 'hea', 'act', 'meet', 'priorities', 'may', 'identified', 'within', 'cluster', 'independent', 'providers', 'including', 'potential', 'cost', 'efficiencies', 'system', 'profit', 'sector', 'free', 'tender', 'provision', 'identified', 'needs', 'basis', 'institutions', 'referred', 'cid', 'public', 'funding', 'institutions', 'min', 'e', 'recommendation', 'allocated', 'hea', 'hea', 'exception', 'private', 'institutions', 'currently', 'funded', 'directly', 'department', 'education', 'skills', 'transfer', 'hea', 'administrative', 'basis', 'initially', 'may', 'require', 'amending', 'legislation', 'designation', 'process', 'hea', 'act', 'staffing', 'resource', 'issues', 'hea', 'lead', 'timeline', 'comments', 'sustainable', 'equitable', 'funding', 'actor', 'model', 'start', 'imp', 'comp', 'implementation', 'plan', 'june', 'page', 'current', 'employment', 'contracts', 'academic', 'hei', 'immediat', 'medium', 'term', 'recommendation', 'staff', 'must', 'reviewed', 'view', 'recognising', 'min', 'e', 'e', 'progressed', 'discussion', 'academics', 'professional', 'standing', 'requiring', 'unions', 'auspices', 'comparable', 'levels', 'accountability', 'croke', 'park', 'agreement', 'overall', 'place', 'wider', 'public', 'private', 'sectors', 'framework', 'established', 'review', 'require', 'following', 'government', 'implementation', 'outcomes', 'matter', 'higher', 'education', 'institutions', 'contracts', 'transparent', 'deliver', 'cid', 'accountability', 'appropriate', 'workload', 'potential', 'cost', 'efficiencies', 'allocation', 'models', 'ensure', 'priorities', 'around', 'teaching', 'learning', 'research', 'administration', 'managed', 'delivered', 'case', 'institutes', 'technology', 'cid', 'contracts', 'specify', 'minimum', 'number', 'hours', 'delivered', 'annualised', 'basis', 'contracts', 'reflect', 'much', 'broader', 'concept', 'cid', 'academic', 'year', 'timetable', 'greater', 'flexibility', 'adaptability', 'mobility', 'cid', 'staff', 'meet', 'new', 'demands', 'structural', 'changes', 'arising', 'strategy', 'implementation', 'plan', 'june', 'page', 'lead', 'actor', 'timeline', 'comments', 'sustainable', 'equitable', 'funding', 'model', 'contd', 'start', 'imp', 'complete', 'lifetime', 'strategy', 'context', 'gov', 'medium', 'long', 'term', 'longer', 'term', 'strategic', 'direction', 'tied', 'reducing', 'reliance', 'exchequer', 'individual', 'higher', 'term', 'broader', 'development', 'particularly', 'education', 'institutions', 'progressively', 'take', 'relation', 'level', 'funding', 'reliance', 'greater', 'responsibility', 'key', 'human', 'resource', 'exchequer', 'specific', 'implementation', 'functions', 'actions', 'required', 'point', 'responsibility', 'require', 'institutions', 'cid', 'take', 'powers', 'recruit', 'set', 'terms', 'conditions', 'staff', 'within', 'agreed', 'parameters', 'cid', 'maintain', 'balanced', 'budgets', 'budget', 'full', 'costs', 'recruitment', 'including', 'pension', 'costs', 'cid', 'work', 'within', 'appropriate', 'framework', 'hr', 'management', 'ensures', 'adequate', 'consultation', 'staff', 'interests', 'cid', 'transparency', 'regards', 'levels', 'staffing', 'cid', 'rates', 'pay', 'cid', 'accept', 'clear', 'accountability', 'overall', 'delivery', 'agreed', 'outcomes', 'funding', 'base', 'higher', 'education', 'must', 'gov', 'medium', 'medium', 'potential', 'significant', 'revenue', 'benefits', 'broadened', 'reform', 'student', 'term', 'term', 'immediate', 'long', 'term', 'depending', 'financing', 'including', 'new', 'form', 'direct', 'student', 'model', 'contribution', 'based', 'upfront', 'fee', 'deferred', 'payment', 'facility', 'short', 'expert', 'group', 'established', 'cid', 'implementation', 'require', 'department', 'min', 'e', 'immediate', 'term', 'commence', 'detailed', 'scheme', 'design', 'incl', 'implementation', 'plan', 'june', 'page', 'education', 'skills', 'establish', 'expert', 'group', 'des', 'hea', 'ntma', 'fin', 'revenue', 'heis', 'international', 'representation', 'design', 'independent', 'expertise', 'appropriate', 'loan', 'system', 'ireland', 'taking', 'account', 'attendant', 'implementation', 'issues', 'cid', 'setting', 'fee', 'rates', 'occur', 'within', 'national', 'framework', 'regulate', 'maximum', 'level', 'fees', 'periodic', 'review', 'min', 'e', 'immediate', 'short', 'des', 'advance', 'ongoing', 'reform', 'process', 'cid', 'future', 'growth', 'improved', 'quality', 'delivery', 'term', 'legislation', 'currently', 'committee', 'irish', 'higher', 'education', 'possible', 'without', 'stage', 'contribution', 'cid', 'reform', 'financing', 'must', 'also', 'include', 'reform', 'min', 'e', 'immediate', 'ongoing', 'des', 'consider', 'part', 'overall', 'labour', 'procedures', 'means', 'testing', 'students', 'market', 'activation', 'responses', 'skills', 'maintenance', 'grants', 'initiatives', 'streamlined', 'timely', 'delivered', 'single', 'agency', 'cid', 'situations', 'identified', 'skills', 'shortages', 'need', 'addressed', 'specific', 'upskilling', 'priorities', 'within', 'workforce', 'state', 'consider', 'alternative', 'funding', 'arrangements', 'using', 'ntf', 'support', 'students', 'meeting', 'cid', 'required', 'student', 'contribution', 'defined', 'funds', 'bursaries', 'public', 'cid', 'private', 'higher', 'education', 'institutions', 'could', 'compete', 'onward', 'disbursement', 'students', 'following', 'particular', 'programmes', 'study', 'discounted', 'fees', 'implementation', 'plan', 'june', 'page', 'lead', 'actor', 'timeline', 'comments', 'sustainable', 'equitable', 'funding', 'model', 'contd', 'start', 'imp', 'comp', 'growth', 'higher', 'education', 'must', 'sustainable', 'resourced', 'appropriate', 'funding', 'base', 'growth', 'quality', 'improvement', 'must', 'progressed', 'together', 'particular', 'hea', 'must', 'charged', 'keeping', 'institutions', 'close', 'review', 'relation', 'hea', 'immediate', 'ongoing', 'hea', 'assess', 'provide', 'advice', 'sustainability', 'ambitions', 'growth', 'minister', 'measured', 'financial', 'resources', 'available', 'underpin', 'growth', 'public', 'investment', 'higher', 'education', 'must', 'aligned', 'national', 'policy', 'priorities', 'including', 'widening', 'hea', 'immediate', 'short', 'term', 'hea', 'address', 'implementation', 'access', 'enhanced', 'performance', 'outcomes', 'greater', 'revised', 'funding', 'allocation', 'model', 'flexibility', 'provision', 'allocation', 'changes', 'made', 'cost', 'involve', 'neutral', 'basis', 'cid', 'widening', 'access', 'higher', 'education', 'people', 'lower', 'socio', 'economic', 'backgrounds', 'represented', 'groups', 'additional', 'weighting', 'cid', 'recurrent', 'grant', 'allocation', 'achieves', 'parity', 'students', 'whether', 'full', 'part', 'time', 'campus', 'cid', 'element', 'reward', 'match', 'private', 'donations', 'sourced', 'philanthropy', 'cid', 'recurrent', 'grant', 'allocation', 'institutions', 'based', 'implementation', 'plan', 'june', 'page', 'current', 'unit', 'cost', 'model', 'rgam', 'operational', 'university', 'sector', 'hea', 'immediate', 'ongoing', 'cid', 'service', 'level', 'agreements', 'part', 'strategic', 'hei', 'dialogue', 'higher', 'education', 'institutions', 'establishing', 'key', 'outputs', 'outcomes', 'levels', 'service', 'delivered', 'resources', 'allocated', 'achieve', 'implementation', 'plan', 'june', 'page']\n",
      "4019\n"
     ]
    }
   ],
   "source": [
    "print(doc)\n",
    "words = doc\n",
    "print(len(doc))\n"
   ]
  },
  {
   "cell_type": "code",
   "execution_count": 41,
   "metadata": {},
   "outputs": [
    {
     "name": "stdout",
     "output_type": "stream",
     "text": [
      "Shuffling words ...\n",
      "Putting 4871 words into word2ind and matrix M...\n",
      "Done.\n",
      "Running Truncated SVD over 4871 words...\n",
      "Done.\n"
     ]
    }
   ],
   "source": [
    "from sklearn.decomposition import TruncatedSVD\n",
    "# -----------------------------------------------------------------\n",
    "# Run Cell to Reduce 200-Dimensional Word Embeddings to k Dimensions\n",
    "# Note: This should be quick to run\n",
    "# -----------------------------------------------------------------\n",
    "M, word2ind, words = get_matrix_of_vectors(wv_from_bin, words)\n",
    "M_reduced = reduce_to_k_dim(M, k=2)\n",
    "\n",
    "# Rescale (normalize) the rows to make them each of unit-length\n",
    "M_lengths = np.linalg.norm(M_reduced, axis=1)\n",
    "M_reduced_normalized = M_reduced / M_lengths[:, np.newaxis] # broadcasting\n"
   ]
  },
  {
   "cell_type": "code",
   "execution_count": 42,
   "metadata": {},
   "outputs": [
    {
     "name": "stdout",
     "output_type": "stream",
     "text": [
      "0\n",
      "[]\n"
     ]
    }
   ],
   "source": [
    "print(len(words))\n",
    "print(words)"
   ]
  },
  {
   "cell_type": "code",
   "execution_count": 28,
   "metadata": {},
   "outputs": [
    {
     "name": "stderr",
     "output_type": "stream",
     "text": [
      "/home/desir/Code/PSC-Stats/env/lib/python3.10/site-packages/sklearn/cluster/_kmeans.py:870: FutureWarning: The default value of `n_init` will change from 10 to 'auto' in 1.4. Set the value of `n_init` explicitly to suppress the warning\n",
      "  warnings.warn(\n",
      "/tmp/ipykernel_74510/3300031390.py:23: ConvergenceWarning: Number of distinct clusters (1) found smaller than n_clusters (6). Possibly due to duplicate points in X.\n",
      "  clf.fit(df)\n"
     ]
    },
    {
     "data": {
      "image/png": "[encoded data removed]",
      "text/plain": [
       "<Figure size 640x480 with 1 Axes>"
      ]
     },
     "metadata": {},
     "output_type": "display_data"
    }
   ],
   "source": [
    "plot_embeddings_cluster(M_reduced_normalized, word2ind, words)"
   ]
  },
  {
   "cell_type": "code",
   "execution_count": 22,
   "metadata": {},
   "outputs": [],
   "source": [
    "def print_clusters(M_reduced, word2ind, words, n_clust):\n",
    "\n",
    "    '''\n",
    "    Printing the elements of each clusters from plot_embeddings_cluster\n",
    "\n",
    "    ## Params:\n",
    "        M_reduced (numpy matrix of shape (num_corpus_words, dim=2)): co-occurence matrix reduced by reduce_to_k_dim\n",
    "        word2ind: dictionary mapping each word to its row number in M_reduced \n",
    "        words: array of the words vectors we are plotting\n",
    "        n_clust (int): number of clusters used in plot_embeddings_cluster\n",
    "    \n",
    "    '''\n",
    "    clf = KMeans(n_clusters= n_clust)\n",
    "    X = []\n",
    "    Y= []\n",
    "    \n",
    "    for i in range(len(words)):\n",
    "        k = word2ind[words[i]]\n",
    "        X.append(M_reduced[k][0])\n",
    "        Y.append(M_reduced[k][1])\n",
    "        #plt.scatter(M_reduced[k][0], M_reduced[k][1], color = 'red')\n",
    "        #plt.text(M_reduced[k][0], M_reduced[k][1], words[i], fontsize = 9)\n",
    "    d= {'X' : X, 'Y' : Y}\n",
    "    df = pd.DataFrame(data = d)\n",
    "    clf.fit(df)\n",
    "    labels = clf.labels_\n",
    "    \n",
    "    L = [ [] for i in range(n_clust)]\n",
    "\n",
    "\n",
    "    plt.figure(figsize = (20,16))\n",
    "    for i in range(len(df)):\n",
    "        plt.subplot(n_clust,1,labels[i]+1)\n",
    "        plt.plot(df.iloc[i,0], df.iloc[i,1])\n",
    "        plt.text(df.iloc[i,0], df.iloc[i,1], words[i], fontsize = 9)\n",
    "        L[labels[i]].append(words[i])\n",
    "    plt.show()\n"
   ]
  },
  {
   "cell_type": "code",
   "execution_count": 23,
   "metadata": {},
   "outputs": [
    {
     "name": "stderr",
     "output_type": "stream",
     "text": [
      "/home/desir/Code/PSC-Stats/env/lib/python3.10/site-packages/sklearn/cluster/_kmeans.py:870: FutureWarning: The default value of `n_init` will change from 10 to 'auto' in 1.4. Set the value of `n_init` explicitly to suppress the warning\n",
      "  warnings.warn(\n",
      "/tmp/ipykernel_74510/1478615343.py:25: ConvergenceWarning: Number of distinct clusters (1) found smaller than n_clusters (6). Possibly due to duplicate points in X.\n",
      "  clf.fit(df)\n"
     ]
    },
    {
     "data": {
      "image/png": "[encoded data removed]",
      "text/plain": [
       "<Figure size 2000x1600 with 1 Axes>"
      ]
     },
     "metadata": {},
     "output_type": "display_data"
    }
   ],
   "source": [
    "print_clusters(M_reduced_normalized, word2ind, words,6)"
   ]
  }
 ],
 "metadata": {
  "kernelspec": {
   "display_name": "env",
   "language": "python",
   "name": "python3"
  },
  "language_info": {
   "codemirror_mode": {
    "name": "ipython",
    "version": 3
   },
   "file_extension": ".py",
   "mimetype": "text/x-python",
   "name": "python",
   "nbconvert_exporter": "python",
   "pygments_lexer": "ipython3",
   "version": "3.10.7"
  },
  "orig_nbformat": 4,
  "vscode": {
   "interpreter": {
    "hash": "8c76d5d71f6ab77ddc68bef7b2dbe251be11983b828d81b9fd8595a9ae508b59"
   }
  }
 },
 "nbformat": 4,
 "nbformat_minor": 2
}
